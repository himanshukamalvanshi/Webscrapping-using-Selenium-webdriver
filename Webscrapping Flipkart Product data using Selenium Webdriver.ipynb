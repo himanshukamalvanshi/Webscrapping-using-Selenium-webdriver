{
 "cells": [
  {
   "cell_type": "markdown",
   "id": "084e8fb0",
   "metadata": {},
   "source": [
    "# Scrapping Mobile Data from first 20 pages of Flipkart"
   ]
  },
  {
   "cell_type": "markdown",
   "id": "d0af9797",
   "metadata": {},
   "source": [
    "**Check if Selenium is already installed or not**"
   ]
  },
  {
   "cell_type": "code",
   "execution_count": 1,
   "id": "76e9ac62",
   "metadata": {},
   "outputs": [
    {
     "name": "stdout",
     "output_type": "stream",
     "text": [
      "Name: selenium\n",
      "Version: 4.9.1\n",
      "Summary: \n",
      "Home-page: https://www.selenium.dev\n",
      "Author: \n",
      "Author-email: \n",
      "License: Apache 2.0\n",
      "Location: c:\\users\\kamal\\anaconda3\\lib\\site-packages\n",
      "Requires: certifi, trio, trio-websocket, urllib3\n",
      "Required-by: \n",
      "Note: you may need to restart the kernel to use updated packages.\n"
     ]
    }
   ],
   "source": [
    "pip show selenium"
   ]
  },
  {
   "cell_type": "markdown",
   "id": "121a1d2e",
   "metadata": {},
   "source": [
    "**If it is installed, skip the next step or else install it using the next step**"
   ]
  },
  {
   "cell_type": "code",
   "execution_count": 2,
   "id": "846b9ce9",
   "metadata": {},
   "outputs": [
    {
     "name": "stdout",
     "output_type": "stream",
     "text": [
      "Requirement already satisfied: selenium in c:\\users\\kamal\\anaconda3\\lib\\site-packages (4.9.1)Note: you may need to restart the kernel to use updated packages.\n",
      "\n",
      "Requirement already satisfied: trio-websocket~=0.9 in c:\\users\\kamal\\anaconda3\\lib\\site-packages (from selenium) (0.10.2)\n",
      "Requirement already satisfied: certifi>=2021.10.8 in c:\\users\\kamal\\anaconda3\\lib\\site-packages (from selenium) (2022.12.7)\n",
      "Requirement already satisfied: trio~=0.17 in c:\\users\\kamal\\anaconda3\\lib\\site-packages (from selenium) (0.22.0)\n",
      "Requirement already satisfied: urllib3[socks]<3,>=1.26 in c:\\users\\kamal\\anaconda3\\lib\\site-packages (from selenium) (1.26.14)\n",
      "Requirement already satisfied: sniffio in c:\\users\\kamal\\anaconda3\\lib\\site-packages (from trio~=0.17->selenium) (1.2.0)\n",
      "Requirement already satisfied: async-generator>=1.9 in c:\\users\\kamal\\anaconda3\\lib\\site-packages (from trio~=0.17->selenium) (1.10)\n",
      "Requirement already satisfied: exceptiongroup>=1.0.0rc9 in c:\\users\\kamal\\anaconda3\\lib\\site-packages (from trio~=0.17->selenium) (1.1.1)\n",
      "Requirement already satisfied: cffi>=1.14 in c:\\users\\kamal\\anaconda3\\lib\\site-packages (from trio~=0.17->selenium) (1.15.1)\n",
      "Requirement already satisfied: idna in c:\\users\\kamal\\anaconda3\\lib\\site-packages (from trio~=0.17->selenium) (3.4)\n",
      "Requirement already satisfied: sortedcontainers in c:\\users\\kamal\\anaconda3\\lib\\site-packages (from trio~=0.17->selenium) (2.4.0)\n",
      "Requirement already satisfied: attrs>=19.2.0 in c:\\users\\kamal\\anaconda3\\lib\\site-packages (from trio~=0.17->selenium) (22.1.0)\n",
      "Requirement already satisfied: outcome in c:\\users\\kamal\\anaconda3\\lib\\site-packages (from trio~=0.17->selenium) (1.2.0)\n",
      "Requirement already satisfied: wsproto>=0.14 in c:\\users\\kamal\\anaconda3\\lib\\site-packages (from trio-websocket~=0.9->selenium) (1.2.0)\n",
      "Requirement already satisfied: PySocks!=1.5.7,<2.0,>=1.5.6 in c:\\users\\kamal\\anaconda3\\lib\\site-packages (from urllib3[socks]<3,>=1.26->selenium) (1.7.1)\n",
      "Requirement already satisfied: pycparser in c:\\users\\kamal\\anaconda3\\lib\\site-packages (from cffi>=1.14->trio~=0.17->selenium) (2.21)\n",
      "Requirement already satisfied: h11<1,>=0.9.0 in c:\\users\\kamal\\anaconda3\\lib\\site-packages (from wsproto>=0.14->trio-websocket~=0.9->selenium) (0.14.0)\n"
     ]
    }
   ],
   "source": [
    "pip install selenium"
   ]
  },
  {
   "cell_type": "code",
   "execution_count": 3,
   "id": "cd8bf449",
   "metadata": {},
   "outputs": [],
   "source": [
    "#import the required libraries\n",
    "from selenium import webdriver\n",
    "from selenium.webdriver.chrome.service import Service\n",
    "import pandas as pd\n",
    "from time import sleep"
   ]
  },
  {
   "cell_type": "code",
   "execution_count": 9,
   "id": "89b5a4f8",
   "metadata": {},
   "outputs": [],
   "source": [
    "# I have saved the file in the C: Folder, you can choose the path for your file\n",
    "path = 'C://chromedriver.exe'"
   ]
  },
  {
   "cell_type": "code",
   "execution_count": 10,
   "id": "61b07abc",
   "metadata": {},
   "outputs": [],
   "source": [
    "service= Service(path)"
   ]
  },
  {
   "cell_type": "code",
   "execution_count": 14,
   "id": "e09ace51",
   "metadata": {},
   "outputs": [
    {
     "name": "stderr",
     "output_type": "stream",
     "text": [
      "Error getting version of chromedriver 115. Retrying with chromedriver 114 (attempt 1/5)\n"
     ]
    }
   ],
   "source": [
    "browser = webdriver.Chrome(service=service) \n",
    "browser.minimize_window()"
   ]
  },
  {
   "cell_type": "code",
   "execution_count": 15,
   "id": "17ea4f03",
   "metadata": {},
   "outputs": [],
   "source": [
    "browser.get(\"https://www.flipkart.com\")\n",
    "sleep(1)"
   ]
  },
  {
   "cell_type": "code",
   "execution_count": 16,
   "id": "86bc9419",
   "metadata": {},
   "outputs": [],
   "source": [
    "close_button = browser.find_element(by='xpath',value=\"/html/body/div[2]/div/div/button\")\n",
    "close_button.click()"
   ]
  },
  {
   "cell_type": "code",
   "execution_count": 17,
   "id": "c7e33e93",
   "metadata": {},
   "outputs": [],
   "source": [
    "search_bar = browser.find_element(by='xpath', value=\"//input[@class='_3704LK']\")\n",
    "search_button = browser.find_element(by='xpath', value=\"//button[@class='L0Z3Pu']\")"
   ]
  },
  {
   "cell_type": "code",
   "execution_count": 18,
   "id": "a093bebc",
   "metadata": {},
   "outputs": [],
   "source": [
    "search_bar.send_keys(\"mobiles\")\n",
    "search_button.click()\n",
    "sleep(2)"
   ]
  },
  {
   "cell_type": "code",
   "execution_count": 19,
   "id": "0b2017b6",
   "metadata": {},
   "outputs": [],
   "source": [
    "#mobile_name= browser.find_elements(by='xpath', value=\"//div[@class='_4rR01T']\")\n",
    "#mobile_price= browser.find_elements(by='xpath', value=\"//div[@class='_30jeq3 _1_WHN1']\")\n",
    "#mobile_rating= browser.find_elements(by='xpath', value=\"//div[@class='gUuXy-']\")"
   ]
  },
  {
   "cell_type": "code",
   "execution_count": 20,
   "id": "d82e9f3e",
   "metadata": {
    "scrolled": true
   },
   "outputs": [
    {
     "name": "stdout",
     "output_type": "stream",
     "text": [
      "Scrapping page  1\n",
      "Scrapping page  2\n",
      "Scrapping page  3\n",
      "Scrapping page  4\n",
      "Scrapping page  5\n",
      "Scrapping page  6\n",
      "Scrapping page  7\n",
      "Scrapping page  8\n",
      "Scrapping page  9\n",
      "Scrapping page  10\n",
      "Scrapping page  11\n",
      "Scrapping page  12\n",
      "Scrapping page  13\n",
      "Scrapping page  14\n",
      "Scrapping page  15\n",
      "Scrapping page  16\n",
      "Scrapping page  17\n",
      "Scrapping page  18\n",
      "Scrapping page  19\n",
      "Scrapping page  20\n"
     ]
    }
   ],
   "source": [
    "names=[]\n",
    "prices=[]\n",
    "ratings=[]\n",
    "for i in range(0,20):\n",
    "    print('Scrapping page ', i+1)\n",
    "    mobiles= browser.find_elements(by='xpath', value=\"//div[@class='_13oc-S']\")\n",
    "    ##//div[@class='_3pLy-c row']\n",
    "    for mobile in mobiles:\n",
    "        mobile_name= mobile.find_element(by='xpath', value=\".//div[@class='_4rR01T']\")\n",
    "        names.append(mobile_name.text)\n",
    "        # Some mobiles may not have price mentioned\n",
    "        try:\n",
    "            mobile_price= mobile.find_element(by='xpath', value=\".//div[@class='_30jeq3 _1_WHN1']\")\n",
    "            prices.append(mobile_price.text)\n",
    "        except:\n",
    "            prices.append('Price not available')\n",
    "            \n",
    "        # Some mobiles may not have any ratings or reviews\n",
    "        try:\n",
    "            mobile_rating= mobile.find_element(by='xpath', value=\".//div/span/div[@class='_3LWZlK']\")\n",
    "            ratings.append(mobile_rating.text)\n",
    "        except:\n",
    "            ratings.append(\"NA\")\n",
    "    # Switching to the next page\n",
    "    try:\n",
    "        next_button= browser.find_element(by='xpath', value='(//a[@class=\"_1LKTO3\"])[2]')\n",
    "       \n",
    "    except:\n",
    "        next_button=browser.find_element(by='xpath', value='//a[@class=\"_1LKTO3\"]')\n",
    "        next_button.click()\n",
    "        sleep(2)\n",
    "    else:\n",
    "        next_button.click()\n",
    "        sleep(2)"
   ]
  },
  {
   "cell_type": "code",
   "execution_count": 21,
   "id": "85907d63",
   "metadata": {},
   "outputs": [
    {
     "data": {
      "text/html": [
       "<div>\n",
       "<style scoped>\n",
       "    .dataframe tbody tr th:only-of-type {\n",
       "        vertical-align: middle;\n",
       "    }\n",
       "\n",
       "    .dataframe tbody tr th {\n",
       "        vertical-align: top;\n",
       "    }\n",
       "\n",
       "    .dataframe thead th {\n",
       "        text-align: right;\n",
       "    }\n",
       "</style>\n",
       "<table border=\"1\" class=\"dataframe\">\n",
       "  <thead>\n",
       "    <tr style=\"text-align: right;\">\n",
       "      <th></th>\n",
       "      <th>Mobile name</th>\n",
       "      <th>Mobile price</th>\n",
       "      <th>Ratings</th>\n",
       "    </tr>\n",
       "  </thead>\n",
       "  <tbody>\n",
       "    <tr>\n",
       "      <th>0</th>\n",
       "      <td>SAMSUNG Galaxy F13 (Nightsky Green, 64 GB)</td>\n",
       "      <td>₹9,499</td>\n",
       "      <td>4.3</td>\n",
       "    </tr>\n",
       "    <tr>\n",
       "      <th>1</th>\n",
       "      <td>SAMSUNG Galaxy F13 (Sunrise Copper, 64 GB)</td>\n",
       "      <td>₹9,499</td>\n",
       "      <td>4.3</td>\n",
       "    </tr>\n",
       "    <tr>\n",
       "      <th>2</th>\n",
       "      <td>SAMSUNG Galaxy F13 (Waterfall Blue, 64 GB)</td>\n",
       "      <td>₹9,499</td>\n",
       "      <td>4.3</td>\n",
       "    </tr>\n",
       "    <tr>\n",
       "      <th>3</th>\n",
       "      <td>SAMSUNG Galaxy F13 (Waterfall Blue, 128 GB)</td>\n",
       "      <td>₹10,499</td>\n",
       "      <td>4.3</td>\n",
       "    </tr>\n",
       "    <tr>\n",
       "      <th>4</th>\n",
       "      <td>POCO C55 (Forest Green, 128 GB)</td>\n",
       "      <td>₹8,499</td>\n",
       "      <td>4.2</td>\n",
       "    </tr>\n",
       "  </tbody>\n",
       "</table>\n",
       "</div>"
      ],
      "text/plain": [
       "                                   Mobile name Mobile price Ratings\n",
       "0   SAMSUNG Galaxy F13 (Nightsky Green, 64 GB)       ₹9,499     4.3\n",
       "1   SAMSUNG Galaxy F13 (Sunrise Copper, 64 GB)       ₹9,499     4.3\n",
       "2   SAMSUNG Galaxy F13 (Waterfall Blue, 64 GB)       ₹9,499     4.3\n",
       "3  SAMSUNG Galaxy F13 (Waterfall Blue, 128 GB)      ₹10,499     4.3\n",
       "4              POCO C55 (Forest Green, 128 GB)       ₹8,499     4.2"
      ]
     },
     "execution_count": 21,
     "metadata": {},
     "output_type": "execute_result"
    }
   ],
   "source": [
    "df=pd.DataFrame()\n",
    "df['Mobile name']=names\n",
    "df['Mobile price']=prices\n",
    "df['Ratings']=ratings\n",
    "\n",
    "df.head()"
   ]
  },
  {
   "cell_type": "code",
   "execution_count": 22,
   "id": "310b82f2",
   "metadata": {},
   "outputs": [
    {
     "data": {
      "text/plain": [
       "480"
      ]
     },
     "execution_count": 22,
     "metadata": {},
     "output_type": "execute_result"
    }
   ],
   "source": [
    "len(ratings)"
   ]
  },
  {
   "cell_type": "code",
   "execution_count": 23,
   "id": "ba8fc140",
   "metadata": {},
   "outputs": [
    {
     "data": {
      "text/plain": [
       "480"
      ]
     },
     "execution_count": 23,
     "metadata": {},
     "output_type": "execute_result"
    }
   ],
   "source": [
    "len(names)"
   ]
  },
  {
   "cell_type": "code",
   "execution_count": 24,
   "id": "ae76769f",
   "metadata": {},
   "outputs": [
    {
     "data": {
      "text/plain": [
       "480"
      ]
     },
     "execution_count": 24,
     "metadata": {},
     "output_type": "execute_result"
    }
   ],
   "source": [
    "len(prices)"
   ]
  },
  {
   "cell_type": "code",
   "execution_count": 25,
   "id": "9a080e9d",
   "metadata": {},
   "outputs": [
    {
     "data": {
      "text/plain": [
       "(480, 3)"
      ]
     },
     "execution_count": 25,
     "metadata": {},
     "output_type": "execute_result"
    }
   ],
   "source": [
    "df.shape"
   ]
  },
  {
   "cell_type": "code",
   "execution_count": 26,
   "id": "6bb71684",
   "metadata": {},
   "outputs": [],
   "source": [
    "#Number of results that don't have any ratings\n",
    "p=df[df['Ratings']=='NA']"
   ]
  },
  {
   "cell_type": "code",
   "execution_count": 27,
   "id": "eb6a9fbc",
   "metadata": {},
   "outputs": [
    {
     "data": {
      "text/plain": [
       "8"
      ]
     },
     "execution_count": 27,
     "metadata": {},
     "output_type": "execute_result"
    }
   ],
   "source": [
    "len(p)"
   ]
  },
  {
   "cell_type": "code",
   "execution_count": 28,
   "id": "60cb25a3",
   "metadata": {},
   "outputs": [],
   "source": [
    "#Storing data in a csv file\n",
    "df.to_excel('Flipkart.xlsx')"
   ]
  },
  {
   "cell_type": "markdown",
   "id": "e9cdada5",
   "metadata": {},
   "source": [
    "# Creating a web scrapper for scrapping any product on Flipkart"
   ]
  },
  {
   "cell_type": "markdown",
   "id": "1cfb09da",
   "metadata": {},
   "source": [
    "#### It is similar to the last problem. We just have to take the product name from the user"
   ]
  },
  {
   "cell_type": "markdown",
   "id": "3938c962",
   "metadata": {},
   "source": [
    "## Note:\n",
    "- The code works pefectly fine for products like **Mobiles**, **Washing machines**, **Laptops** \n",
    "- The code will also work for products like **Shoes**, **Jackets** or any other products but for some products it may not work if the specific class is not found"
   ]
  },
  {
   "cell_type": "code",
   "execution_count": 30,
   "id": "0544b5d6",
   "metadata": {},
   "outputs": [],
   "source": [
    "#import the required libraries\n",
    "from selenium import webdriver\n",
    "from selenium.webdriver.chrome.service import Service\n",
    "import pandas as pd\n",
    "from time import sleep"
   ]
  },
  {
   "cell_type": "code",
   "execution_count": 31,
   "id": "789ff9aa",
   "metadata": {},
   "outputs": [],
   "source": [
    "# I have saved the file in the C: Folder, you can choose the path for your file\n",
    "path = 'C://chromedriver.exe'"
   ]
  },
  {
   "cell_type": "code",
   "execution_count": 32,
   "id": "2a4e547a",
   "metadata": {},
   "outputs": [],
   "source": [
    "service= Service(path)"
   ]
  },
  {
   "cell_type": "code",
   "execution_count": 33,
   "id": "34eb48cf",
   "metadata": {},
   "outputs": [],
   "source": [
    "browser = webdriver.Chrome(service=service)\n",
    "browser.minimize_window()"
   ]
  },
  {
   "cell_type": "code",
   "execution_count": 34,
   "id": "de797523",
   "metadata": {},
   "outputs": [],
   "source": [
    "browser.get(\"https://www.flipkart.com\")\n",
    "sleep(1)"
   ]
  },
  {
   "cell_type": "code",
   "execution_count": 35,
   "id": "728400ad",
   "metadata": {},
   "outputs": [],
   "source": [
    "#To close the Login pop up\n",
    "close_button = browser.find_element(by='xpath',value=\"/html/body/div[2]/div/div/button\")\n",
    "close_button.click()"
   ]
  },
  {
   "cell_type": "code",
   "execution_count": 36,
   "id": "3cf15987",
   "metadata": {},
   "outputs": [],
   "source": [
    "#Xpaths for the search bar and button\n",
    "search_bar = browser.find_element(by='xpath', value=\"//input[@class='_3704LK']\")\n",
    "search_button = browser.find_element(by='xpath', value=\"//button[@class='L0Z3Pu']\")"
   ]
  },
  {
   "cell_type": "code",
   "execution_count": 37,
   "id": "ba56f6b7",
   "metadata": {},
   "outputs": [
    {
     "name": "stdout",
     "output_type": "stream",
     "text": [
      "Enter the product name:laptop\n"
     ]
    }
   ],
   "source": [
    "# The search for the product \n",
    "product_name=input(\"Enter the product name:\")\n",
    "search_bar.send_keys(product_name)\n",
    "search_button.click()\n",
    "sleep(2)"
   ]
  },
  {
   "cell_type": "code",
   "execution_count": 38,
   "id": "59d7dd76",
   "metadata": {},
   "outputs": [
    {
     "name": "stdout",
     "output_type": "stream",
     "text": [
      "Scrapping page  1\n",
      "Scrapping page  2\n",
      "Scrapping page  3\n",
      "Scrapping page  4\n",
      "Scrapping page  5\n",
      "Scrapping page  6\n",
      "Scrapping page  7\n",
      "Scrapping page  8\n",
      "Scrapping page  9\n",
      "Scrapping page  10\n",
      "Scrapping page  11\n",
      "Scrapping page  12\n",
      "Scrapping page  13\n",
      "Scrapping page  14\n",
      "Scrapping page  15\n",
      "Scrapping page  16\n",
      "Scrapping page  17\n",
      "Scrapping page  18\n",
      "Scrapping page  19\n",
      "Scrapping page  20\n",
      "Scrapping page  21\n",
      "Scrapping page  22\n",
      "Scrapping page  23\n",
      "Scrapping page  24\n",
      "Scrapping page  25\n",
      "Scrapping page  26\n",
      "Scrapping page  27\n",
      "Scrapping page  28\n",
      "Scrapping page  29\n",
      "Scrapping page  30\n",
      "Scrapping page  31\n",
      "Scrapping page  32\n",
      "Scrapping page  33\n",
      "Scrapping page  34\n",
      "Scrapping page  35\n",
      "Scrapping page  36\n",
      "Scrapping page  37\n",
      "Scrapping page  38\n",
      "Scrapping page  39\n",
      "Scrapping page  40\n",
      "Scrapping page  41\n",
      "Scrapping page  42\n",
      "Scrapping page  43\n",
      "Scrapping page  44\n",
      "Scrapping page  45\n",
      "Scrapping page  46\n",
      "Scrapping page  47\n",
      "Scrapping page  48\n",
      "Scrapping page  49\n",
      "Scrapping page  50\n"
     ]
    }
   ],
   "source": [
    "#Scrapping the data\n",
    "names=[]\n",
    "prices=[]\n",
    "ratings=[]\n",
    "for i in range(0,50):\n",
    "    print('Scrapping page ', i+1)\n",
    "    products= browser.find_elements(by='xpath', value=\"//div[@class='_13oc-S']\")\n",
    "    ##//div[@class='_3pLy-c row']\n",
    "    for product in products:\n",
    "        \n",
    "        #Getting the name of the Product\n",
    "        try:\n",
    "            product_name= product.find_element(by='xpath', value=\".//div[@class='_4rR01T']\")\n",
    "            names.append(product_name.text)\n",
    "            \n",
    "        except:\n",
    "            try:\n",
    "                product_name=product.find_element(by='xpath', value=\".//a[@class='IRpwTa']\")\n",
    "                names.append(product_name.text)\n",
    "            except:\n",
    "                # Some products may not have name mentioned\n",
    "                names.append('Names is not available')   \n",
    "            \n",
    "        \n",
    "        \n",
    "        try:\n",
    "            product_price= product.find_element(by='xpath', value=\".//div[@class='_30jeq3 _1_WHN1']\")\n",
    "            prices.append(product_price.text)\n",
    "            \n",
    "        except:\n",
    "            try:\n",
    "                product_price= product.find_element(by='xpath', value=\".//div[@class='_30jeq3']\")\n",
    "                prices.append(product_price.text)\n",
    "            except:\n",
    "                # Some products may not have price mentioned\n",
    "                prices.append('Price not available')\n",
    "        \n",
    "        \n",
    "        try:\n",
    "            product_rating= product.find_element(by='xpath', value=\".//div/span/div[@class='_3LWZlK']\")\n",
    "            ratings.append(product_rating.text)\n",
    "        except:\n",
    "            # Some products may not have any ratings or reviews\n",
    "            ratings.append(\"NA\")\n",
    "                \n",
    "                \n",
    "    # Switching to the next page\n",
    "    try:\n",
    "        next_button= browser.find_element(by='xpath', value='(//a[@class=\"_1LKTO3\"])[2]')\n",
    "       \n",
    "    except:\n",
    "        next_button=browser.find_element(by='xpath', value='//a[@class=\"_1LKTO3\"]')\n",
    "        next_button.click()\n",
    "        sleep(2)\n",
    "    else:\n",
    "        next_button.click()\n",
    "        sleep(2)"
   ]
  },
  {
   "cell_type": "code",
   "execution_count": 39,
   "id": "5a5bdced",
   "metadata": {},
   "outputs": [
    {
     "data": {
      "text/html": [
       "<div>\n",
       "<style scoped>\n",
       "    .dataframe tbody tr th:only-of-type {\n",
       "        vertical-align: middle;\n",
       "    }\n",
       "\n",
       "    .dataframe tbody tr th {\n",
       "        vertical-align: top;\n",
       "    }\n",
       "\n",
       "    .dataframe thead th {\n",
       "        text-align: right;\n",
       "    }\n",
       "</style>\n",
       "<table border=\"1\" class=\"dataframe\">\n",
       "  <thead>\n",
       "    <tr style=\"text-align: right;\">\n",
       "      <th></th>\n",
       "      <th>Product_name</th>\n",
       "      <th>Product_price</th>\n",
       "      <th>Ratings</th>\n",
       "    </tr>\n",
       "  </thead>\n",
       "  <tbody>\n",
       "    <tr>\n",
       "      <th>0</th>\n",
       "      <td>Lenovo IdeaPad Gaming 3 Intel Core i5 11th Gen...</td>\n",
       "      <td>₹48,990</td>\n",
       "      <td>4.3</td>\n",
       "    </tr>\n",
       "    <tr>\n",
       "      <th>1</th>\n",
       "      <td>Lenovo IdeaPad 3 Chromebook Intel Celeron Dual...</td>\n",
       "      <td>₹13,990</td>\n",
       "      <td>3.5</td>\n",
       "    </tr>\n",
       "    <tr>\n",
       "      <th>2</th>\n",
       "      <td>HP 15s (2023) Athlon Dual Core 3050U - (8 GB/5...</td>\n",
       "      <td>₹27,990</td>\n",
       "      <td>4</td>\n",
       "    </tr>\n",
       "    <tr>\n",
       "      <th>3</th>\n",
       "      <td>APPLE 2020 Macbook Air M1 - (8 GB/256 GB SSD/M...</td>\n",
       "      <td>₹75,990</td>\n",
       "      <td>4.7</td>\n",
       "    </tr>\n",
       "    <tr>\n",
       "      <th>4</th>\n",
       "      <td>ASUS Vivobook 15 Core i3 11th Gen - (8 GB/512 ...</td>\n",
       "      <td>₹34,990</td>\n",
       "      <td>4.2</td>\n",
       "    </tr>\n",
       "  </tbody>\n",
       "</table>\n",
       "</div>"
      ],
      "text/plain": [
       "                                        Product_name Product_price Ratings\n",
       "0  Lenovo IdeaPad Gaming 3 Intel Core i5 11th Gen...       ₹48,990     4.3\n",
       "1  Lenovo IdeaPad 3 Chromebook Intel Celeron Dual...       ₹13,990     3.5\n",
       "2  HP 15s (2023) Athlon Dual Core 3050U - (8 GB/5...       ₹27,990       4\n",
       "3  APPLE 2020 Macbook Air M1 - (8 GB/256 GB SSD/M...       ₹75,990     4.7\n",
       "4  ASUS Vivobook 15 Core i3 11th Gen - (8 GB/512 ...       ₹34,990     4.2"
      ]
     },
     "execution_count": 39,
     "metadata": {},
     "output_type": "execute_result"
    }
   ],
   "source": [
    "df=pd.DataFrame()\n",
    "df['Product_name']=names\n",
    "df['Product_price']=prices\n",
    "df['Ratings']=ratings\n",
    "\n",
    "df.head()"
   ]
  },
  {
   "cell_type": "code",
   "execution_count": 40,
   "id": "681df05b",
   "metadata": {},
   "outputs": [],
   "source": [
    "import mysql.connector\n",
    "from mysql.connector import errorcode"
   ]
  },
  {
   "cell_type": "code",
   "execution_count": 41,
   "id": "e412790a",
   "metadata": {},
   "outputs": [],
   "source": [
    "mydb= mysql.connector.connect(host='localhost',user=\"root\", password=\"Abcd@1234\")\n",
    "cursor=mydb.cursor()"
   ]
  },
  {
   "cell_type": "code",
   "execution_count": 42,
   "id": "847ad423",
   "metadata": {},
   "outputs": [
    {
     "name": "stdout",
     "output_type": "stream",
     "text": [
      "yes\n"
     ]
    }
   ],
   "source": [
    "if mydb.is_connected():\n",
    "    print('yes')\n",
    "else:\n",
    "    print('No')"
   ]
  },
  {
   "cell_type": "code",
   "execution_count": 43,
   "id": "b756b3cf",
   "metadata": {},
   "outputs": [],
   "source": [
    "cursor.execute(\"CREATE DATABASE IF NOT EXISTS Flipkart\") # Create Database"
   ]
  },
  {
   "cell_type": "code",
   "execution_count": 44,
   "id": "813d4cec",
   "metadata": {},
   "outputs": [],
   "source": [
    "try:\n",
    "    cursor.execute(\"create table Flipkart.Laptops(Product_Name varchar(10000), Product_Price varchar(30), Ratings varchar(5) )\") # Create Table\n",
    "except:\n",
    "    cursor.execute(\"drop table Flipkart.Laptops\")\n",
    "    cursor.execute(\"create table Flipkart.Laptops(Product_Name blob(4294967295), Product_Price varchar(30), Ratings varchar(5) )\") # Create Table\n",
    "    "
   ]
  },
  {
   "cell_type": "code",
   "execution_count": 45,
   "id": "0918e06b",
   "metadata": {},
   "outputs": [],
   "source": [
    "data = df[['Product_name', 'Product_price', 'Ratings']].values.tolist()"
   ]
  },
  {
   "cell_type": "code",
   "execution_count": 46,
   "id": "032e1417",
   "metadata": {},
   "outputs": [],
   "source": [
    "query = \"INSERT INTO Flipkart.Laptop (product_name, product_price, ratings) VALUES (%s, %s, %s)\"  # Modify the query according to your table structure\n"
   ]
  },
  {
   "cell_type": "code",
   "execution_count": null,
   "id": "9c5a3594",
   "metadata": {},
   "outputs": [],
   "source": [
    "for row in data:\n",
    "    cursor.execute(query, row)\n",
    "    mydb.commit()"
   ]
  },
  {
   "cell_type": "code",
   "execution_count": null,
   "id": "4ef029b3",
   "metadata": {},
   "outputs": [],
   "source": []
  }
 ],
 "metadata": {
  "kernelspec": {
   "display_name": "Python 3 (ipykernel)",
   "language": "python",
   "name": "python3"
  },
  "language_info": {
   "codemirror_mode": {
    "name": "ipython",
    "version": 3
   },
   "file_extension": ".py",
   "mimetype": "text/x-python",
   "name": "python",
   "nbconvert_exporter": "python",
   "pygments_lexer": "ipython3",
   "version": "3.10.9"
  }
 },
 "nbformat": 4,
 "nbformat_minor": 5
}
